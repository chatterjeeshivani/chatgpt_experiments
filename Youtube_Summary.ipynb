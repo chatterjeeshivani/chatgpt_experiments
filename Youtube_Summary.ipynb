{
  "nbformat": 4,
  "nbformat_minor": 0,
  "metadata": {
    "colab": {
      "provenance": [],
      "authorship_tag": "ABX9TyOcdsN5QHT60fC9ztP6qilo",
      "include_colab_link": true
    },
    "kernelspec": {
      "name": "python3",
      "display_name": "Python 3"
    },
    "language_info": {
      "name": "python"
    }
  },
  "cells": [
    {
      "cell_type": "markdown",
      "metadata": {
        "id": "view-in-github",
        "colab_type": "text"
      },
      "source": [
        "<a href=\"https://colab.research.google.com/github/chatterjeeshivani/chatgpt_experiments/blob/main/Youtube_Summary.ipynb\" target=\"_parent\"><img src=\"https://colab.research.google.com/assets/colab-badge.svg\" alt=\"Open In Colab\"/></a>"
      ]
    },
    {
      "cell_type": "code",
      "source": [
        "!pip install openai"
      ],
      "metadata": {
        "id": "ooEIje9r1Knd"
      },
      "execution_count": null,
      "outputs": []
    },
    {
      "cell_type": "code",
      "source": [
        "from google.colab import files\n",
        "\n",
        "uploaded = files.upload()\n"
      ],
      "metadata": {
        "colab": {
          "base_uri": "https://localhost:8080/",
          "height": 39
        },
        "id": "JK20WGTSp_gt",
        "outputId": "e4fff908-96bc-4770-e8a3-66daa1ce9b2b"
      },
      "execution_count": 2,
      "outputs": [
        {
          "output_type": "display_data",
          "data": {
            "text/plain": [
              "<IPython.core.display.HTML object>"
            ],
            "text/html": [
              "\n",
              "     <input type=\"file\" id=\"files-bf6b16eb-093c-4caa-a95a-81e2aacff8b3\" name=\"files[]\" multiple disabled\n",
              "        style=\"border:none\" />\n",
              "     <output id=\"result-bf6b16eb-093c-4caa-a95a-81e2aacff8b3\">\n",
              "      Upload widget is only available when the cell has been executed in the\n",
              "      current browser session. Please rerun this cell to enable.\n",
              "      </output>\n",
              "      <script>// Copyright 2017 Google LLC\n",
              "//\n",
              "// Licensed under the Apache License, Version 2.0 (the \"License\");\n",
              "// you may not use this file except in compliance with the License.\n",
              "// You may obtain a copy of the License at\n",
              "//\n",
              "//      http://www.apache.org/licenses/LICENSE-2.0\n",
              "//\n",
              "// Unless required by applicable law or agreed to in writing, software\n",
              "// distributed under the License is distributed on an \"AS IS\" BASIS,\n",
              "// WITHOUT WARRANTIES OR CONDITIONS OF ANY KIND, either express or implied.\n",
              "// See the License for the specific language governing permissions and\n",
              "// limitations under the License.\n",
              "\n",
              "/**\n",
              " * @fileoverview Helpers for google.colab Python module.\n",
              " */\n",
              "(function(scope) {\n",
              "function span(text, styleAttributes = {}) {\n",
              "  const element = document.createElement('span');\n",
              "  element.textContent = text;\n",
              "  for (const key of Object.keys(styleAttributes)) {\n",
              "    element.style[key] = styleAttributes[key];\n",
              "  }\n",
              "  return element;\n",
              "}\n",
              "\n",
              "// Max number of bytes which will be uploaded at a time.\n",
              "const MAX_PAYLOAD_SIZE = 100 * 1024;\n",
              "\n",
              "function _uploadFiles(inputId, outputId) {\n",
              "  const steps = uploadFilesStep(inputId, outputId);\n",
              "  const outputElement = document.getElementById(outputId);\n",
              "  // Cache steps on the outputElement to make it available for the next call\n",
              "  // to uploadFilesContinue from Python.\n",
              "  outputElement.steps = steps;\n",
              "\n",
              "  return _uploadFilesContinue(outputId);\n",
              "}\n",
              "\n",
              "// This is roughly an async generator (not supported in the browser yet),\n",
              "// where there are multiple asynchronous steps and the Python side is going\n",
              "// to poll for completion of each step.\n",
              "// This uses a Promise to block the python side on completion of each step,\n",
              "// then passes the result of the previous step as the input to the next step.\n",
              "function _uploadFilesContinue(outputId) {\n",
              "  const outputElement = document.getElementById(outputId);\n",
              "  const steps = outputElement.steps;\n",
              "\n",
              "  const next = steps.next(outputElement.lastPromiseValue);\n",
              "  return Promise.resolve(next.value.promise).then((value) => {\n",
              "    // Cache the last promise value to make it available to the next\n",
              "    // step of the generator.\n",
              "    outputElement.lastPromiseValue = value;\n",
              "    return next.value.response;\n",
              "  });\n",
              "}\n",
              "\n",
              "/**\n",
              " * Generator function which is called between each async step of the upload\n",
              " * process.\n",
              " * @param {string} inputId Element ID of the input file picker element.\n",
              " * @param {string} outputId Element ID of the output display.\n",
              " * @return {!Iterable<!Object>} Iterable of next steps.\n",
              " */\n",
              "function* uploadFilesStep(inputId, outputId) {\n",
              "  const inputElement = document.getElementById(inputId);\n",
              "  inputElement.disabled = false;\n",
              "\n",
              "  const outputElement = document.getElementById(outputId);\n",
              "  outputElement.innerHTML = '';\n",
              "\n",
              "  const pickedPromise = new Promise((resolve) => {\n",
              "    inputElement.addEventListener('change', (e) => {\n",
              "      resolve(e.target.files);\n",
              "    });\n",
              "  });\n",
              "\n",
              "  const cancel = document.createElement('button');\n",
              "  inputElement.parentElement.appendChild(cancel);\n",
              "  cancel.textContent = 'Cancel upload';\n",
              "  const cancelPromise = new Promise((resolve) => {\n",
              "    cancel.onclick = () => {\n",
              "      resolve(null);\n",
              "    };\n",
              "  });\n",
              "\n",
              "  // Wait for the user to pick the files.\n",
              "  const files = yield {\n",
              "    promise: Promise.race([pickedPromise, cancelPromise]),\n",
              "    response: {\n",
              "      action: 'starting',\n",
              "    }\n",
              "  };\n",
              "\n",
              "  cancel.remove();\n",
              "\n",
              "  // Disable the input element since further picks are not allowed.\n",
              "  inputElement.disabled = true;\n",
              "\n",
              "  if (!files) {\n",
              "    return {\n",
              "      response: {\n",
              "        action: 'complete',\n",
              "      }\n",
              "    };\n",
              "  }\n",
              "\n",
              "  for (const file of files) {\n",
              "    const li = document.createElement('li');\n",
              "    li.append(span(file.name, {fontWeight: 'bold'}));\n",
              "    li.append(span(\n",
              "        `(${file.type || 'n/a'}) - ${file.size} bytes, ` +\n",
              "        `last modified: ${\n",
              "            file.lastModifiedDate ? file.lastModifiedDate.toLocaleDateString() :\n",
              "                                    'n/a'} - `));\n",
              "    const percent = span('0% done');\n",
              "    li.appendChild(percent);\n",
              "\n",
              "    outputElement.appendChild(li);\n",
              "\n",
              "    const fileDataPromise = new Promise((resolve) => {\n",
              "      const reader = new FileReader();\n",
              "      reader.onload = (e) => {\n",
              "        resolve(e.target.result);\n",
              "      };\n",
              "      reader.readAsArrayBuffer(file);\n",
              "    });\n",
              "    // Wait for the data to be ready.\n",
              "    let fileData = yield {\n",
              "      promise: fileDataPromise,\n",
              "      response: {\n",
              "        action: 'continue',\n",
              "      }\n",
              "    };\n",
              "\n",
              "    // Use a chunked sending to avoid message size limits. See b/62115660.\n",
              "    let position = 0;\n",
              "    do {\n",
              "      const length = Math.min(fileData.byteLength - position, MAX_PAYLOAD_SIZE);\n",
              "      const chunk = new Uint8Array(fileData, position, length);\n",
              "      position += length;\n",
              "\n",
              "      const base64 = btoa(String.fromCharCode.apply(null, chunk));\n",
              "      yield {\n",
              "        response: {\n",
              "          action: 'append',\n",
              "          file: file.name,\n",
              "          data: base64,\n",
              "        },\n",
              "      };\n",
              "\n",
              "      let percentDone = fileData.byteLength === 0 ?\n",
              "          100 :\n",
              "          Math.round((position / fileData.byteLength) * 100);\n",
              "      percent.textContent = `${percentDone}% done`;\n",
              "\n",
              "    } while (position < fileData.byteLength);\n",
              "  }\n",
              "\n",
              "  // All done.\n",
              "  yield {\n",
              "    response: {\n",
              "      action: 'complete',\n",
              "    }\n",
              "  };\n",
              "}\n",
              "\n",
              "scope.google = scope.google || {};\n",
              "scope.google.colab = scope.google.colab || {};\n",
              "scope.google.colab._files = {\n",
              "  _uploadFiles,\n",
              "  _uploadFilesContinue,\n",
              "};\n",
              "})(self);\n",
              "</script> "
            ]
          },
          "metadata": {}
        }
      ]
    },
    {
      "cell_type": "code",
      "execution_count": 3,
      "metadata": {
        "id": "WLC3uiIVoT9O"
      },
      "outputs": [],
      "source": [
        "with open('open_api_key.txt', 'r') as f:\n",
        "    openai_key = f.read()"
      ]
    },
    {
      "cell_type": "code",
      "source": [
        "with open('Sam Altman - Startup Investor School Day 1.txt', 'r') as f:\n",
        "    text = f.read()"
      ],
      "metadata": {
        "id": "woTszoEYp4bN"
      },
      "execution_count": 4,
      "outputs": []
    },
    {
      "cell_type": "code",
      "source": [
        "print(len(text))\n"
      ],
      "metadata": {
        "colab": {
          "base_uri": "https://localhost:8080/"
        },
        "id": "bRkY8q1gqKcy",
        "outputId": "fc278334-3ab2-431b-b37c-071f47e5bdb5"
      },
      "execution_count": 5,
      "outputs": [
        {
          "output_type": "stream",
          "name": "stdout",
          "text": [
            "42945\n"
          ]
        }
      ]
    },
    {
      "cell_type": "code",
      "source": [
        "import openai\n",
        "import re"
      ],
      "metadata": {
        "id": "zCjxiXiGqWDc"
      },
      "execution_count": 9,
      "outputs": []
    },
    {
      "cell_type": "code",
      "source": [
        "# Step 2: Divide the transcript into segments without cutting words\n",
        "def split_into_segments(text, max_segment_length=2048):\n",
        "    words = text.split()\n",
        "    segments = []\n",
        "    current_segment = []\n",
        "\n",
        "    for word in words:\n",
        "        if sum(len(w) for w in current_segment) + len(word) + len(current_segment) > max_segment_length:\n",
        "            segments.append(\" \".join(current_segment))\n",
        "            current_segment = []\n",
        "\n",
        "        current_segment.append(word)\n",
        "\n",
        "    if current_segment:\n",
        "        segments.append(\" \".join(current_segment))\n",
        "\n",
        "    return segments\n",
        "\n"
      ],
      "metadata": {
        "id": "eXgt9ZIp1Abu"
      },
      "execution_count": 22,
      "outputs": []
    },
    {
      "cell_type": "code",
      "source": [
        "segments = split_into_segments(text)\n"
      ],
      "metadata": {
        "id": "GFjW_MUB1W_q"
      },
      "execution_count": 23,
      "outputs": []
    },
    {
      "cell_type": "code",
      "source": [
        "print(len(segments))"
      ],
      "metadata": {
        "colab": {
          "base_uri": "https://localhost:8080/"
        },
        "id": "PwlHs4Dw1ZCz",
        "outputId": "25259831-5d85-4d60-eadf-914c1166195d"
      },
      "execution_count": 24,
      "outputs": [
        {
          "output_type": "stream",
          "name": "stdout",
          "text": [
            "21\n"
          ]
        }
      ]
    },
    {
      "cell_type": "code",
      "source": [
        "print(segments)"
      ],
      "metadata": {
        "colab": {
          "base_uri": "https://localhost:8080/"
        },
        "id": "TMlUM1Bb1epk",
        "outputId": "8ca52086-c864-46b3-b473-4489278f44a4"
      },
      "execution_count": 25,
      "outputs": [
        {
          "output_type": "stream",
          "name": "stdout",
          "text": [
            "[\"I'm going to turn it over to our first speaker Sam Altman the president of Y Combinator who actually had the original idea for this course so I'm pretty grateful for that and he's also the man who has said you want to sound crazy but you want to actually be right Sam thank you Jeff and thank you all for coming this is it's cool to see so many people in the room so I want to talk about why how and And what to do to invest in startups I'm only going to talk a little bit about why especially given how many of you already invest in startups but I did do something to get ready for this class which was I asked some of the best investors I know why they invest in startups and I contract Oh Steven I think it's automatically advancing no problem so and then I compared that with reasons I've heard from other people who I don't think are as good and I think it Is worth thinking about why the people who have sort of done the best in the field what their motivations are to invest perfect this was one I heard from a few people these exact three words from a few different people and this resonates with me the thing that I like the most about investing in startups is that it's energizing I feel like I am constantly I'm working with people that are not burned out on the world at all they have unlimited energy they have new Ideas and they have the sort of the beauty of inexperience and they don't know they're your people that are doing things for the first time are willing to do things that anyone who has got a few more battle scars won't try and that is incredibly energizing to be around help shaping the future was something that the very best investors said again and again and as part of that the leverage on time the ability to work on multiple things came up again and again and again Most of the time you lose one extra money but occasionally you do get to make a hundred or a thousand acts and that for the same reason slot machines satisfying is incredibly addictive it's also satisfying because every once in a while I founder of\", \"a great company who is you know now super famous will tell you hey that thing you did for me eight or ten years ago was this make a break difference to my entire career and that's that's deeply gratifying you get To be around some of the most talented people in the world there is this sense of just endless optimism around the future that is really important to my own personal happiness to be around and I haven't found that in too many other places in the world besides startup founders it's incredibly humbling I write on the back of every stock certificate on a post-it note my confidence interval and what I thought was gonna happen with the company and You get used to being wrong a lot and that framework that mental adjustment that you know you're usually gonna be wrong that has been helpful to me and everything else I've done in life you do learn a lot though and if you if you treat this as something that you're gonna try to get better at and sort of deliberately practice you can learn a lot and you can get better at this really quickly alright so now I want to move into the two main sections the how And the what the number one mistake that I used to make when I started investing was actually not misunderstanding of the power law the number one mistake was that I cared too much about what other investors thought and the sooner you can free yourself of this the better the I think this is a very common mistake that people make when they start investing you get very swayed by what previously successful investors think the first question that most people ask why see Startups is who else is investing in year round people totally outsource I would say 80% of investors outsource 80% of their decision-making to what other people think about an investment opportunity the problem is everyone does that and so there's this weird schooling effect where a company gets hot for no discernible reason or it fits a trend or whatever and then everybody wants to invest in one company and it's just Because a few people decided they\", \"liked it so the number one mistake I made was to be to swayed by what other investors thought good and bad about a company after I corrected for that the second biggest mistake I made was not investing the power and not understanding the power law the power law means that your single best investment will be worth more to you in return than all of the rest of your investments put together your second Best will be better than 3 through infinity put together and this is like a deeply true thing that most investors find and this is so counterintuitive that it means almost everyone invests the wrong way so the question that you should be thinking about the question that most people think about when they start angel investing is can I hit a bunch of singles and in most other kinds of investing that's the right way to do it you know if you're going to invest in Stocks or bombs or whatever that's how you do it you're just compounding singles for a long time but angel investing is a business of homeruns and you want to look for things that can be potential homeruns and we're going to talk about that again and again through this but this is I think the most important thing to learn and the thing that most investors get wrong so it's all about it's all about the magnitude of your biggest success it is not about The failure rate most investors talk about their failure rate still you know when we have people that are trying to build angel firms come talk the question the first question they ask is what is your failure rate what's an acceptable failure rate totally the wrong question totally the wrong way to think about angel investing you can have 95% of your investments fail if one of them returns a billion dollars and you'll be totally happy and so this is what you want to Think about the first question that I try to ask myself when I meet a start-up is not why is it going to fail it's not what could go wrong the first question is how big could this be if it works can I imagine this founder this idea this market supporting\", \"a you know massive massive company and then I think about all the things that could go wrong but I found that if I thought about what could go wrong first I filtered out the companies that could be giant the Companies that could be giant are at this intersection of sounds like a bad idea is a good idea and because that's a very narrow intersection and because they sound like a bad idea the best investments are the ones that are easiest to talk yourself out of if you start off thinking about why that could go wrong so then there's a question about how do you find these companies how do you find the companies That can be the handful of companies that get started every decade that are responsible for almost all of the returns just to put some numbers on the power-law YC has funded I think around 1,600 companies maybe 1700 our top five companies represent about two-thirds of the value that we've created and our top one company represents about one third so this is like a nearly one-third so this is like this very extreme very counterintuitive thing all right how do You find these companies another thing that I think is surprising is many of these companies that are sort of a generation-defining companies are started by people who are out of network who are not well-known who are not sort of the people that you know can start a company and get a bunch of press right away and so you have to find these and the best way to do that is from other founders this is part of what we try to do at YC is we try to get our founders To like us so much that they refer all of their friends to us because they say these you know YC creates so much more value than it takes you got to go work with them and we this idea of like word-of-mouth as the way to find companies to invest in has been great if you're just starting out I think what I have seen the most successful angel investors do is just start helping founders for free realizing they may not get to invest in Those companies but that they'll get the referrals down the road and so\", \"much of this is about people connecting you to other people that you don't know we talked about this at YC this value of an open network a lot of angel investors like to brag about how difficult it is to get a meeting with them how you have to have a connection otherwise they'll never take you seriously and it's got to be from like you know someone they worked with a bunch and you've got to be Well known and experienced and we just make it really clear anyone in the world can go to our website click apply we try to respond to emails to people that email us we take people seriously that have no personal brand no reputation no network we ask people that are in our network to connect us to the most promising people they know that we don't already know but this idea that we're available and we're open I think this was in the two or three most Important secrets of YC this was something that we did that was really different other people hadn't done it before in fact people bragged about the opposite and we went totally other direction and I strongly recommend this be be open to that random email that comes in be open to the introduction of someone that on paper doesn't seem like you know that there's someone you want to meet nine times out of ten you waste Your time that other time makes it totally worth it so one big shift that's happened in the last ten years I'd say or maybe 15 even is there are now way more people that want to invest in good startups than there are good startups and so it founders have really become in the driver's seat founders founders of good companies have a lot of choice when it comes to investors and founders talk a lot now the network has gotten big enough that the asymmetry That used to exist where investors had a lot of leverage is gone and I don't think it will come back anytime soon your reputation matters a lot it is way more important to your future success as an investor that founders like you and say that investor did the right thing by me than it is that you squeeze out you know a\", \"few drops of juice from a failing company the number of investors that I have seen do incredible long-term damage to their reputation by fighting over the Carcass of a company that was never because of the power law going to matter to them anyway but try to get out you know ten thousand dollars or whatever from a dying company if you're playing a long game that's not worth it reputation especially reputation when a company is going badly is super super important and I think that is the secret at this point in sort of 2018 Silicon Valley to to winning deals the thing that we tell founders to do and the Thing that founders do anyway when they're trying to choose between a number of investors that all want to invest in their company is they they do reference checks on you just like you do on them and more and more the thing that I have seen founders use is the criteria to make the decision about which investors to work with is what the other founders that investor is fun to have to say and so I think this will this will continue to be important there are other Things you can do I think helping before you close the deal is good deciding quickly being clear about your reasoning being responsive being available all the things you want from a founder those all help to but but this reputation of being good to work with that goes a long way and people remember that for a long time the other question I get all the time is how do I get a good bargain like how do I get a better term than Eric better terms than Everybody else we recently had a company they had let's say you know 10 investors and that we're gonna join their seed round every one of the 10 had asked for advisor shares every one of the 10 had said well unlike all those other investors I really do work super hard you know I'm the only investor in a round that usually gets advisor shares so you need to give them to participate and everybody asked for this all ten same Thing I'm the only one I need advisor shares and I think you know a lot of people are just looking\", \"for a good deal because valuations feel high they have felt hi to me for eight seven years now I went back and looked at my Destin bust myths the very best investments I've made have either been a ridiculous deal because no one else wanted to invest or a deal that felt incredibly expensive the more I was willing to sort of overpay in my mind to invest in a Company often the better it did and especially when I felt like I was getting screwed if it was like a huge operon three months after some other round it was painful I did it anyway I think because the companies that work sometimes work so fast and you're anchored to like what a fair deal is you gotta watch out for this but my experience investing in startups is my best investments with one or two exceptions have been The deals that felt the most expensive to me and the one or two exceptions were companies where I understood something that no one else did and thus there was no competition whatsoever other than that the company is where I like tried to value invest have not been as good I think value investing is not a winning strategy when it comes to being an angel investor most of the time all right I will try to go kind of fast through this to leave time for questions so there's a Big question of what to invest in and here's the framework I use I will consider anything that I believe could be a 10 billion dollar company and that is such a tight criteria I have no other rules so I am willing to look at any stage I'm willing to look at any sector I am willing to look at any business model there are other investors who have this like oh I only do this one thing at this one stage and maybe they make that work I have never figured out how to do That the good the great companies the companies that are in that number one spot on the power-law are so rare that I suggest you only select for things that can be there and other than that be really open-minded speaking of the really big companies I think I don't know if this was always true I suspect it may have been but\", \"I think today it is easier to start a hard company than an easy company and this sounds super counterintuitive but if you're gonna Build a really big company you got to convince people to come work with you to pay attention to you to write press articles about you to care about you to advise you and if you are starting the 20 mm photo sharing application it's really hard if you are starting a nuclear fusion company a lot of people want to help with that and I think especially for the companies that end up breaking out this is really important you know this thing that is so Interesting people proactively want to help you for free want to come be part of your team whatever this is something to look for so like is this a company that I believe will be able to recruit hundreds of really talented people who could otherwise start their own companies is a super important filter the I don't think people think about enough one thing that we've learned at YC is to mostly pick the founders it it is Difficult to hear an idea at the very early stage and say yeah this idea has what it takes to be a ten billion dollar company you can say an idea doesn't have it which we'll talk about but it's difficult to say this is for sure the big idea however I think you can with practice identify founders and I'm going to talk about how that have it have a chance at creating one of these companies pabu hi one of our partners made a list Of the four traits that he thought founders that go on to create giant companies have and they are obsession focused for gala tea and love um he said this sort of in passing in the meeting like two or three years ago I've thought about it a lot since there's there's other obvious things that everyone's screens for but pay attention to these speaking of the obvious things that everyone's screens for intelligence is really important you can give a founder An idea and they can start a company the problem is they need to come up with new ideas for a company basically like every week you have to come up with\", \"crazy new ideas big changes all the time we we tried an experiment once at YC we funded to want the teams of strong founders that didn't have ideas but were otherwise really good and what we learned they all failed and what we learned is that the good founders are the people that have ideas all the time So there's an intelligence components to this there's a creativity component to this there is an ability to think independent thoughts component to this but whatever you want to call this this idea of this particular kind of intelligence that leads to seeing problems in different ways and thinking of ideas that don't yet exist but should you've got to have that in a founder communication skills I think are one of the most important founder Qualifications that people don't think about enough so so much of your job as a founder is about communication you are every time you hire someone every time you go raise money every time you try to sell the product every time you try and set a direction for the company um you do it like a huge amount of the founders job is being an evangelist for the company and if you don't have really strong communication skills or if you don't develop them Quickly you're at a big disadvantage think about there there are obviously famous exceptions to this but if you think about it on the whole the founders of the really super successful companies tend to be great communicators execution speed there's a lot of ways to measure this but and we talk about this a lot the need to sort of relentlessly execute as a founder this is incredibly correlated with success so one way we test this during YC is between office hours which we have every week or 10 days how much progress do the founders make how quickly do they take a new idea and try it and say hey I came back and I tried that this didn't work but this other thing did in the process I had these three new ideas I tried those just this relentless cadence of execution is incredibly predictive of success and it we had a joke once where the there\", \"were all these founders who are incredible on paper they never Actually quickly they always have great reasons for why they didn't but they still never go and be successful and then there are these people who just like get an amazing amount of stuff done they their iteration speed the speed with which they can have a hypothesis tested and implement it is unbelievable that's really correlated with with huge success the rate of improvement of the founder so if you look at a founder who comes to meet you for a seed Ron and Compare that founder to Brian Chesky you will be disappointed 100% of the time that is the wrong comparison you will never write a check however just like startups you look at the growth rate you should look at the growth rate of the founder as well so one thing that we can often tell the ten weeks of YC is how fast a founder is improving this is different than how fast the business is improving and you know like humans always Underestimate exponential growth would not we're not well evolved for that and so if you notice a founder who is improving incredibly quickly over the couple of months you get to know that founder pay a lot of attention again you won't you won't get Brian Chesky in a first meeting but you can find people who are on a trajectory to develop into a Brian Chesky and that is super valuable this is one of those things where I have seen it you know maybe like Ten times in my career so far where I just knew that this founder was going to like develop into an incredible leader and it's basically been every time I felt that it's been right I really do trust this like this rate of improvement metric I think one thing you have to be increasingly aware of are the wrong motivations so starting a start-up is a very long-term commitment you know if it's gonna work it takes more than a decade it's really hard there are a lot Of days where you just want to give up and there are a lot of people now who start a startup because they think it is a way to get rich quickly and unfortunately it's\", \"just not so as startups have become the new default career trajectory for ambitious people there are a lot of people who are doing a start-up as a resume item or as a way to get rich quickly this does not work the the amount of pain that you have to suffer for a start-up you realize at Some point you know what I can do pretty well in any series of other jobs with much less risk and much less negative effect on my life so you really do want to stay focused on the mission driven founders again if we look at our own success and failures in our portfolio of YC every time we thought a company was going to go really well and didn't the company the founder did not have this deep sense of mission so it's something we really look for as a primary Motivation and then another way I used to get tricked a lot is there were founders that I didn't think were that good but they had stumbled on a nice business or you know they had this metric that was growing pretty well or all of my other investor friends were investing and so I got scared and did it anyway but but I think this focus on truly exceptional founders like people that I'm like wow I want to go work for him Or her is really important I've I have never once made a lot of money backing a founder that I thought was only okay but a business that was otherwise good I talked a little bit about this but we have a word of YC called scenesters this is different than people who just want to make a lot of money there are increasing number of people who just like want to be around startups and go to startup parties and talk about being a founder treat that as a red flag Obviously low integrity people that doesn't work out either okay this is maybe the third biggest misunderstand you know I had and I think for many people it's their number one biggest misunderstanding people always say that what matters is not a startups current revenue but its growth rate and that's true however in the same sentence investors will say but the only thing I care about is the size of the market\", \"today and this is obviously ridiculous On its face right like if you think about the biggest companies today ten years ago many of those markets did not exist if you think about the size of the social networking market when Facebook started if you think about the size of ride-sharing apps when it movers started that's a really bad metric and unfortunately it has become Dogma among investors that you know size of the market is the most important thing even really good investors say this I think They either I think they actually mean what they care about is the size of the market in ten years but they don't say it that way and what you should care about of course is the size of the market in ten years if the market is huge today first of all you probably have a lot of big competitors already going after big companies to doing that second of all you don't get to surf this wave of this new technological change that pulls startups along and creates A ton of value in a short period of time but you should prefer a small market growing super quickly to a very large market today super counterintuitive if you chase the things that worked in the last set of companies which is what most investors do you know Facebook works they all want to fund more social networks uber works they want to fund more white ride-sharing apps that is much harder to do the second time it's far better but More difficult if you can identify the next rapidly growing market and invest there this is where this is where independent thought is really important if this is not something where you can just sort of follow what everybody else says by definition you've got to learn to form your own thoughts about about what the next really big market is going to be one way that I like to do this one way that I like to say you know is the market growing really quickly is to Think about this question of whether something is a real trend or a fake trend and I'll talk about that in a second actually right now okay so it is almost become a joke to make fun of like\", \"angel investors moving like a school of fish after one you know declaring somebody's a hot trend and then two years later never talking about that again and saying well that just didn't work but so there's this question sometimes they're right you know Investors in Silicon Valley as a whole for example got mobile right as a thing in a big way but then they got most other things in the last ten years wrong and I think every time someone talks about a big trend my first reaction is skepticism and I suggest yours is as well okay but how do you differentiate between a real trend and a fake trend a real trend is one where although not that many people are participating yet the people who are use the platform a Lot every day and tell their friends spontaneously how great it is so when the iPhone came out most of the mobile industry would make fun of it because Apple only sold a million or two million whatever it was in the first year but if you talk to anyone who had an iPhone they would say this is the greatest piece of like you know technology I've ever had people used it like many hours every day they it was absolutely life-changing so even though the number Of people that had it were small you could identify that as a real trend because the people who had it were not only like daily active users but hourly active users and they were they were the best free advertising Apple could ever have hoped for because they told everyone like this is the future you've got to buy it if you contrast that to something like I got to pick on somebody I'll pick virtual reality if you contrast that to virtual reality Everyone talks about it is the next trend it may be in the future but today if you talk to people who have VR headsets they don't use them every hour they don't use them every day most of them don't use them every week they sit on shelves that has clearly not become a a real trend platform yet it may in the future and the point at which you know people that you know are a lot of people you know a small number of people\", \"you know even start putting their headset on For hours every day and telling all their friends they've got to buy one it's the greatest thing in the world that is the time to start investing heavily in VR can you pick that back up so so this question you know are people actually using the platform I think is a really important one when you're trying to think about you know the next technology wave and you do want to try to figure this out you do want to try to figure this out the certainly not all But most of the biggest technology companies get created soon after one of these massive platform ships Sequoia says this thing that I've always liked which is you cannot create a technology wave that is well beyond the capability of a small company to do but you can surf one if you can find the wave and I think that's really important and I think it's actually like if you use this framework pretty reasonable to evaluate ok so I mention this a little Bit earlier what you are looking for are good ideas that look like bad ideas these are things that you can articulate there is a reason that this is going to be huge that most of the world is missing unfortunately what most people end up chasing are bad ideas that look like good ideas I would say this is where like 90% of all angel capital in the startup ecosystem goes so this is something that is worth trying to avoid and the one very common way that people Make this mistake bad ideas that look like good ideas are chasing the thing that worked two years ago and so if you ever find yourself doing that be very skeptical if you find yourself tempted to invest in one company where there's hundreds of others working on the same thing be very skeptical if you find yourself tempted to work on something that the founders work super hard to convince you is not going to be a long-term commodity be very skeptical The more people talk about like it is absolutely true that you want to something that has real pricing power that comes from a network effect a moat of air and entry\", \"whatever it is but the more founders tried it like when that's true it's so obvious that the more founders try to sell you on why they are super differentiated and why they have the long-term competitive advantage the more skeptical you should be but I have found This framework just trying to think about is this a good idea that seems bad or is this a bad idea that seems good I've found that has helped me make good decisions a bunch of times this is sort of ycs mantra but it's so important that I want to talk about it again the the best companies all have great products unfortunately the current fashion in Silicon Valley I think has gone a little bit too away from this and it's too much about growth hacking and Sales and marketing machines and everything else and that does work for a while you know you can get away actually for a pretty long while by executing really well to grow a mediocre product but you don't usually create like a Facebook size company by doing that and I think asking it become the companies often won't have a great product by the time you're making an angel investment but if you don't believe they can't won't get there at some point it I don't Think it'll be a huge company most of the time and and here is the very simple framework I use for this if I think about all of the most successful internet mobile startups I heard about those because this is like true for enterprise and consumer apps I heard about those because they were so good that one of my friends spontaneously told me about it they were not being incentivized to that was not they didn't mark it to me didn't advertise to me it Was just like someone I trusted said you got to try this new thing it's amazing and if the startup is not gonna get there I think they will not be at that number-one spot on your on your power law returns so I think this is like a really important filter related to that and I mentioned this earlier a little bit human intuitions about exponential growth are terrible we clearly had no evolutionary need for this\", \"we can like visualize linear growth very well we can Like you know visualize the trajectory of an arrow very well we very few people that I have met may actually maybe none sort of tell me what you know like let's say 25% monthly growth 1.25 to the 36th power is say where will this company be in 36 months it's really hard and it is how these companies get super valuable so I long ago learned to stop trying to trust my intuition on this now and I just model it out and I try to model the decay rate about how how much I think Growth will slow down but I try to say okay you know given that this company is growing by word of mouth how big can it be in five years and yeah I've learned not to trust my intuition on that I mentioned this a little bit earlier but I wanted to mention this near the end of the presentation there are a whole bunch of words a whole bunch of different ways that people talk about this this is one of the most important concepts in Start-up investing this is one of the things that differentiates investing in startups from investing in small businesses um you are looking for a company that gets more powerful as it gets bigger you are looking for a company that gets increasing pricing power as it gets bigger you were looking for a company that has an easier time getting more users as it gets bigger that gets harder to compete with as it gets bigger and you know this is often Fairly obvious sometimes it's not sometimes you really have to think hard but you know like once you do you can come up with a story for it this is something that a lot of people get wrong because they get caught up in oh this is going this is so cool today this company has discovered this wonderful thing almost all of the value in a start-up is the you know revenue the earnings is going to generate in years 1011 involved from now and so if you can't answer this Be pretty skeptical and then finally one other question that I like to think through before making an investment is what do I understand that other people don't there can\", \"be a lot of answers to this but this is this comes back to not basing your decision too much off the decision of other investors I like to understand in ax mum if I don't answer to this question I I don't feel like I have any competitive edge in them in in that particular investment Decision but and sometimes the answer to this question is just like everyone's bullish on this company but I'm more bullish because I I understand a specific thing about this market and and everyone thinks it's good I think it's even better so I'll pay this very high valuation but this is a question that I have found helpful for me in in many scenarios all right unfortunately I took all the time but maybe I can do like five minutes of questions We definitely have time for some questions I just wanted to remind all the folks who are live-streaming that the hashtag for questions is is YC s is it's YC s is I think the beginning of the livestream might have missed that so please do send some questions and I you know we started a little late so perhaps running a little long and then we'll take a quick break Thanks all right yes what can i least age investors do to add a lot of value to founders Almost all if you ask founders this which you know they're the customer here I think that makes sense almost always the number one thing they want help with is hiring so helping them find really good people help them interview you know back when I was sort of an active angel investor before YC I would tell founders like you can use me as much as you want for interviews like you I will I will help recruit I will help source people I will help clothes I think people really Like that help with future fundraising and then help with just sort of like everyone wants to like provide the big strategic advice and that is really valuable I think one of the things that I did well when I was an angel investor was I would just try to be available all the time for tactical advice so I would meet for like the big strategic what can this become advice and that's\", \"fun but I think a lot of the value comes just from being available at 11 o'clock on a Friday night when a founder needs a two-minute phone call for some emergency so super availability for tactical advice I think is good what flaws are acceptable in a founder and a you know series cedar series a stage um a lot I think like don't compromise on the things that don't get better like don't don't compromise on a founder integrity but if you think the founders improving fast I think I think a lot so I like I bucket this is traits That I believe can change and traits that I believe can't and if the founder is improving quickly and it's something that I think is changeable you know we've had many many very unsophisticated founders but that we're smart I wanted to learn and were you know doing this for the right reasons super mission oriented come through this door these doors and they have just progressed really fast so you know they were founders who I think had like no Domain-specific knowledge about like one funny thing is when you are negotiating an investment a lot of the time a founder who's otherwise very good will have no idea because they've never done this before and it kind of spooky so you're like wow you don't know what like evaluation is and that's the kind of thing that's like that's a father that's okay how do you judge for integrity with a founder that comes out of network so in our experience we we've gotten this Wrong a handful of times but we have prevented ourselves from this mistake hundreds of times because even in our 10 minute interview if you give like a founder a chance to sort of tell you about the unethical things they do they will often do it and yet surprisingly often so I think the answer is you just listen to the decisions they've made so far and building the business and if you're like that's not a decision I think is okay you can expect more of Them in the future but just listen in the first few meetings and you'll be surprised we definitely have been fooled by plenty of people but we\", \"also make our decisions in 10 minutes results-based observations about when to exercise pro rata and when not to several venture firms have done very sophisticated studies of this and they have all come to the following conclusion which is if the company is Raising an up runned led by a good VC say a top quartile VC you should always exercise pro rata and if you do that across your whole portfolio you'll be happy now this could change if the world really changes and but in the world today there's like very clear data on this what's pirata so often when you invest in a company you will get not always but often you'll get something called a pro rata right which is your right in future Rounds to invest enough dollars in the new round to maintain your ownership level sure alright do I think security tokens and icos will change financings probably but not in the way that most people think I think this idea that like everyone is going to just raise money from the crowd I like I think we'll find out that we have securities laws for a reason and that we want some level of that and that the level of you know I think like there are some incredibly Important ICO is happening right now but they are dwarfed by the number of sort of things that are between just incompetence and scams however I do think that it's possible that we just find a much better mechanical way to track the investments we do right now so that's possible a bad idea that seemed sorry a good idea that seemed like a bad idea you know this is like of our darlings but I just like it's a it's an example that sticks with me so Much because they were in my own YC class in 2005 I was reddit so when reddit started I remember very clearly like telling my friends about it because I was like oh there's this site and you know you can like find these links and it and and I remember people looking at me like and they good well-meaning people nice people that is the dumbest thing I've ever heard like there's all these things already on the Internet you know this one is\", \"just Like pictures of cats or whatever it was at the time and the in it and there's no way you will ever make money on this business so that that's like there's other more famous examples but that is the one that for me resonates very deeply because I was I heard so directly from people I trusted so much and I remember like when they would say it I would just be like oh yeah I guess it's not a very good idea like I had all this conviction that totally went away when People I trusted said said said something was bad there's another common version of this problem which is where there's an idea that seems good in the abstract but everyone assumes the big companies will crush you so Dropbox is an example of this where when when we funded them and when they were kind of getting going everyone was like oh it's a perfectly nice product but you know Google Microsoft whatever guaranteed to crush them soon all right other Questions yes um you know when uber was getting going there there would be all of these articles that would come out it felt like every year where someone would say uber is not worth X the entire taxi market is only worth you know 10% of X and so and this just this kept going um and that is really hard right because you don't you don't have a sense for exactly how big the market is because growing so quickly I think one thing you Can do is look at like shifts in consumer behavior that are creating new markets so like if you thought of uber as a replacement for booking limo services that was one thing if you then started to realize that people had begun to use it as a replacement for taxis and then public transit and then car ownership you could project forward Wow this market is actually going to be quite big because all of this other consumer behavior is Going to shift here um all right a solo non-technical founder I wouldn't say I never would I've done it before I think it can work I do like it when that founder learns enough to build an MVP where I've seen that go wrong the most often is then the\", \"ability to attract evaluate and retain technical talent and so we have a strong strong preference for founding teams that have at least one technical founder we also Have a strong preference for teams that have at least two co-founders again none of these are absolutes because this is all about the power law we are always willing to consider it exceptions so I would never answer a question like that and sad would never but I would try to be clear like here's what I've seen work more often what is the next question Oh a good amount of self-awareness um I think I think a good amount of like willingness to take a feedback and a Drive and a desire to improve is really important um but you know you you do also have to sort of believe that you can succeed in spite of all of your flaws and and so that that's almost more important to me than like someone who really spends a lot of time categorizing everything about it if they're willing to listen willing to improve I've usually found I can work with that founder one more question in the back how do you think about evaluating your Time and resources to different founders a self-indulgence but one that works is only fund founders that you want to allocate a lot of time to because if you don't and if you're like if the founder is like difficult to work with or doesn't listen or you're just not excited about the business a that's probably a red flag for their qualities as a founder and be you then you won't spend time and you won't help them and you won't get this differentiated things So I like I won't fund a founder that I don't want to spend a lot of time helping and as that has always worked pretty well for me all right thank you all very much [Applause] you\"]\n"
          ]
        }
      ]
    },
    {
      "cell_type": "code",
      "source": [
        "openai.api_key=openai_key"
      ],
      "metadata": {
        "id": "YQSdCNSHAT0f"
      },
      "execution_count": 28,
      "outputs": []
    },
    {
      "cell_type": "code",
      "source": [
        "def generate_summary(segment):\n",
        "    prompt=f\"Imagine you're presenting the key points from the transcription to a group of colleagues. Write a concise summary of what was discussed and any relevant details that may be important to your audience:\\n\\n{segment}\\n\\nSummary:\"\n",
        "    response = openai.ChatCompletion.create(\n",
        "      model=\"gpt-3.5-turbo\",\n",
        "      messages=[\n",
        "          {\"role\": \"user\", \"content\": prompt}\n",
        "      ]\n",
        "    )\n",
        "    summary = response.choices[0].message.content.strip()\n",
        "    print(summary)\n",
        "    return summary\n",
        "    #print(response)\n",
        "\n"
      ],
      "metadata": {
        "id": "YsiwJ-mR1m12"
      },
      "execution_count": 50,
      "outputs": []
    },
    {
      "cell_type": "code",
      "source": [
        "generate_summary(segments[0])"
      ],
      "metadata": {
        "colab": {
          "base_uri": "https://localhost:8080/",
          "height": 145
        },
        "id": "nvfI0INLAKed",
        "outputId": "7d8e92df-87aa-480b-b9ad-d8795b2eb366"
      },
      "execution_count": 51,
      "outputs": [
        {
          "output_type": "stream",
          "name": "stdout",
          "text": [
            "Sam Altman, president of Y Combinator, discussed reasons why people invest in startups, citing the energy and innovation of working with inexperienced but enthusiastic individuals as a key motivator. Other top investors noted the opportunity to shape the future and the potential for high returns as incentives. Altman acknowledged that investing in startups can lead to losses but the occasional success is incredibly satisfying and addictive.\n"
          ]
        },
        {
          "output_type": "execute_result",
          "data": {
            "text/plain": [
              "'Sam Altman, president of Y Combinator, discussed reasons why people invest in startups, citing the energy and innovation of working with inexperienced but enthusiastic individuals as a key motivator. Other top investors noted the opportunity to shape the future and the potential for high returns as incentives. Altman acknowledged that investing in startups can lead to losses but the occasional success is incredibly satisfying and addictive.'"
            ],
            "application/vnd.google.colaboratory.intrinsic+json": {
              "type": "string"
            }
          },
          "metadata": {},
          "execution_count": 51
        }
      ]
    },
    {
      "cell_type": "code",
      "source": [
        "segments[0]"
      ],
      "metadata": {
        "colab": {
          "base_uri": "https://localhost:8080/",
          "height": 393
        },
        "id": "plgcbrs7aaxe",
        "outputId": "05aa475b-2446-40d5-e7c3-4960f510f3f1"
      },
      "execution_count": 52,
      "outputs": [
        {
          "output_type": "execute_result",
          "data": {
            "text/plain": [
              "\"I'm going to turn it over to our first speaker Sam Altman the president of Y Combinator who actually had the original idea for this course so I'm pretty grateful for that and he's also the man who has said you want to sound crazy but you want to actually be right Sam thank you Jeff and thank you all for coming this is it's cool to see so many people in the room so I want to talk about why how and And what to do to invest in startups I'm only going to talk a little bit about why especially given how many of you already invest in startups but I did do something to get ready for this class which was I asked some of the best investors I know why they invest in startups and I contract Oh Steven I think it's automatically advancing no problem so and then I compared that with reasons I've heard from other people who I don't think are as good and I think it Is worth thinking about why the people who have sort of done the best in the field what their motivations are to invest perfect this was one I heard from a few people these exact three words from a few different people and this resonates with me the thing that I like the most about investing in startups is that it's energizing I feel like I am constantly I'm working with people that are not burned out on the world at all they have unlimited energy they have new Ideas and they have the sort of the beauty of inexperience and they don't know they're your people that are doing things for the first time are willing to do things that anyone who has got a few more battle scars won't try and that is incredibly energizing to be around help shaping the future was something that the very best investors said again and again and as part of that the leverage on time the ability to work on multiple things came up again and again and again Most of the time you lose one extra money but occasionally you do get to make a hundred or a thousand acts and that for the same reason slot machines satisfying is incredibly addictive it's also satisfying because every once in a while I founder of\""
            ],
            "application/vnd.google.colaboratory.intrinsic+json": {
              "type": "string"
            }
          },
          "metadata": {},
          "execution_count": 52
        }
      ]
    },
    {
      "cell_type": "code",
      "source": [
        "summaries = [generate_summary(segment) for segment in segments]"
      ],
      "metadata": {
        "colab": {
          "base_uri": "https://localhost:8080/"
        },
        "id": "pI9RehuZAPTz",
        "outputId": "db3ae985-5a76-4b10-b20a-d269c3b0a916"
      },
      "execution_count": 53,
      "outputs": [
        {
          "output_type": "stream",
          "name": "stdout",
          "text": [
            "Sam Altman, the President of Y Combinator, discussed the why, how and what to do to invest in startups. He focused on why investors should invest in startups and shared insights from the best investors he knows. These investors said that investing in startups is energizing as they work with people who have unlimited energy and new ideas, and it's satisfying to help shape the future. The ability to work on multiple things and the addictive nature of occasionally making a hundred or a thousand times the investment was also mentioned.\n",
            "The speaker discussed their experiences in investing and being part of a successful company. They emphasized the importance of being around talented individuals and having a sense of endless optimism. The speaker also admitted the importance of being wrong and learning from mistakes as an investor. They highlighted the mistake of caring too much about what other investors think and encouraged the audience to free themselves from this mindset. The speaker cautioned against the \"schooling effect\" of investing where a company becomes popular for no reason and everyone wants to invest in it.\n",
            "The talk discusses the two biggest mistakes in angel investing - being swayed by other investors' opinions and not understanding the power law. The power law states that the best investment will provide higher returns than all other investments combined. Angel investing is about finding potential homeruns, not hitting singles. Failure rate is not a good measure of success, as one successful investment can outweigh many failed ones. The focus should be on how big the investment could be if it works.\n",
            "The speaker discusses how to find companies that have the potential to be very successful investments, which can be found at the intersection of a bad idea that has the potential to be a good idea. These companies are often started by people who are not well-known and are discovered through word-of-mouth referrals from other founders. The most successful angel investors start by helping founders for free to build relationships and gain referrals in the future. The top handful of companies created by YC represent a significant majority of the value created, demonstrating the power law of investments.\n",
            "The transcription discusses the importance of an open network and being available to people with no personal brand or reputation. YC values an open network and connects with promising people through their network. Founders are now in the driver's seat and have more choice when it comes to investors. Reputation matters more to future success as an investor than squeezing out a deal. It is recommended to be open to random emails and introductions.\n",
            "The speaker discussed how fighting over a failing company can damage an investor's reputation in the long term. Reputation is important, especially when a company is not performing well. Founders do reference checks on investors and value feedback from other founders about investors. To succeed in deals, it is essential to have a good reputation as an investor. The speaker also talked about how investors try to get better terms, and it is important to avoid asking for advisor shares and to focus on being helpful and responsive to the founders.\n",
            "In the transcription, the speaker discusses their experience with investing in startups and shares their framework for choosing what to invest in. They note that they have had success with both very cheap and very expensive deals, but caution against value investing as a strategy for angel investors. The speaker's only criteria is that they believe the company could become a 10 billion dollar company, and they encourage being open-minded about stage, sector, and business model. They also mention that the best companies are very rare and to be selected carefully.\n",
            "In the discussion, it was noted that starting a hard company, such as a nuclear fusion company, may be easier to recruit talented individuals and gain support compared to an easier company like a photo sharing app. It was also emphasized that it is important to consider the founders' traits, including obsession, focus, for-galathea, and love, when assessing the potential for a company to become a giant one. Additionally, intelligence is important for founders to continually come up with new ideas for their company.\n",
            "The discussion revolved around the key qualities that make a successful founder, including intelligence, creativity, communication skills, and execution speed. The group discussed an experiment they conducted at YC, in which they funded teams of strong founders without ideas, but all of them failed. They concluded that good founders are those who have ideas all the time. Furthermore, the group emphasized the importance of communication skills in a founder, as a significant part of their job is being an evangelist for the company. Finally, the group discussed the significance of executing quickly and relentlessly, which is highly correlated with success.\n",
            "The speaker discussed the importance of assessing a founder's rate of improvement and growth trajectory rather than comparing them to successful founders like Brian Chesky. They emphasized the value of paying attention to how quickly a founder is improving over a period of time and identifying potential for them to become successful leaders. The speaker also warned about the wrong motivations for starting a startup, such as seeking quick riches, and the long-term commitment required for success.\n",
            "The speaker emphasized the importance of focusing on mission-driven founders rather than those who view starting a company as a resume item or a quick route to wealth. They also discussed the importance of backing truly exceptional founders rather than settling for mediocre founders with a good business idea. The speaker also cautioned against \"scenesters\" who are more interested in the startup culture than in building a successful company. Finally, the speaker clarified that while growth rate is important for startups, investors also care about the size of the market.\n",
            "The speaker highlights the misconception among investors that the size of the market is the most important factor in investing in a startup. Instead, he suggests that investors should prioritize a small market with rapid growth potential over a large market today. The speaker emphasizes the importance of identifying the next rapidly growing market and investing there by developing independent thought, rather than blindly following what has worked in the past. He suggests thinking about whether a trend is genuine or not to determine if a market is growing quickly.\n",
            "The discussion revolves around the challenge of identifying a real trend vs a fake trend in the market. Angel investors tend to follow one another, and it is important to be skeptical of any trend. A real trend is where few participate but those who do are active users and spontaneously promote the platform to their friends like the iPhone. On the other hand, something like virtual reality, which everyone talks about as the next big trend, has not become a real trend yet as most people who have VR headsets don't use them regularly. Therefore, it is important to differentiate between a real and fake trend to avoid investing in something that may not take off the ground.\n",
            "The speaker discusses the importance of investing in VR technology and determining if it has real staying power. They stress the importance of avoiding bad ideas that look like good ideas, such as investing in a company that is chasing a trend from two years ago or is one of many in a crowded market. They encourage looking for a technology with a strong network effect and moat of entry for long-term success.\n",
            "The speaker discusses a framework for evaluating startup ideas, emphasizing the importance of focusing on creating a great product rather than relying solely on growth hacking and marketing. The speaker also suggests that the best companies are those that are spontaneously recommended by trusted friends, indicating the quality of the product. The speaker also notes that our human intuitions about exponential growth are often inaccurate.\n",
            "The speaker discusses the difficulty in predicting a company's growth rate and emphasizes the importance of modeling it out. They also mention that successful startup investing revolves around finding companies that become more powerful and have increasing pricing power as they get bigger. Additionally, the speaker suggests considering what unique insight or understanding one may have before investing in a company.\n",
            "In this transcription, the speaker emphasizes not basing investment decisions solely on the decisions of other investors. Instead, investors should understand the market and have a competitive edge. The speaker also highlights that founders often need help with hiring, future fundraising, and strategic advice, but the speaker recommends also being available for tactical advice.\n",
            "During the conversation, the speaker talked about the importance of being available for founders in times of emergencies and providing tactical advice. They also discussed what flaws are acceptable in a founder, such as not compromising on integrity, but being open to improving on other traits. The speaker mentioned examples of unsophisticated founders who improved quickly and had no domain-specific knowledge. Finally, when considering a founder from a network, the speaker suggested listening to the decisions they have made so far and trusting their instincts.\n",
            "During the discussion, the speaker presented the idea of exercising pro rata in investments, indicating that this approach should be used when a company is raising an up run led by a top quartile VC. The speaker further discussed the future of financing with security tokens and ICOs, suggesting that while there are some important ICOs happening currently, they are overshadowed by scams and incompetence. In conclusion, the speaker proposed the possibility of finding a more effective way of tracking investments in the future.\n",
            "The transcription discusses how commonly held beliefs can affect perception and decision-making, leading to missed opportunities. The speakers give examples from their experiences, including how skepticism from trusted individuals can erode conviction and how assumptions that big companies will dominate a market can discourage pursuing ideas. They also advise looking for shifts in consumer behavior to identify new markets, and caution against relying solely on non-technical founders to build a minimum viable product without educating themselves sufficiently.\n",
            "The speaker discussed the importance of having at least one technical founder and two co-founders when seeking investment. They emphasized the importance of self-awareness and willingness to take feedback and improve. The speaker suggested that they only fund founders they want to allocate a lot of time to because they won't help them otherwise. They noted that exceptions exist, but these traits tend to work well in their experience.\n"
          ]
        }
      ]
    },
    {
      "cell_type": "code",
      "source": [
        "#summaries"
      ],
      "metadata": {
        "id": "GayYP6coDEuE"
      },
      "execution_count": 47,
      "outputs": []
    },
    {
      "cell_type": "code",
      "source": [
        "# Step 4: Combine the summaries to create a step-by-step summary of the podcast\n",
        "\n",
        "final_summary = \"\\n\".join(summary for summary in summaries if summary is not None)\n",
        "print(\"Step-by-step summary of the podcast:\")\n",
        "print(final_summary)\n"
      ],
      "metadata": {
        "colab": {
          "base_uri": "https://localhost:8080/"
        },
        "id": "X2F56lnfA1Qx",
        "outputId": "fa369da9-64fd-4219-8ffc-0222ebc0ab74"
      },
      "execution_count": 54,
      "outputs": [
        {
          "output_type": "stream",
          "name": "stdout",
          "text": [
            "Step-by-step summary of the podcast:\n",
            "Sam Altman, the President of Y Combinator, discussed the why, how and what to do to invest in startups. He focused on why investors should invest in startups and shared insights from the best investors he knows. These investors said that investing in startups is energizing as they work with people who have unlimited energy and new ideas, and it's satisfying to help shape the future. The ability to work on multiple things and the addictive nature of occasionally making a hundred or a thousand times the investment was also mentioned.\n",
            "The speaker discussed their experiences in investing and being part of a successful company. They emphasized the importance of being around talented individuals and having a sense of endless optimism. The speaker also admitted the importance of being wrong and learning from mistakes as an investor. They highlighted the mistake of caring too much about what other investors think and encouraged the audience to free themselves from this mindset. The speaker cautioned against the \"schooling effect\" of investing where a company becomes popular for no reason and everyone wants to invest in it.\n",
            "The talk discusses the two biggest mistakes in angel investing - being swayed by other investors' opinions and not understanding the power law. The power law states that the best investment will provide higher returns than all other investments combined. Angel investing is about finding potential homeruns, not hitting singles. Failure rate is not a good measure of success, as one successful investment can outweigh many failed ones. The focus should be on how big the investment could be if it works.\n",
            "The speaker discusses how to find companies that have the potential to be very successful investments, which can be found at the intersection of a bad idea that has the potential to be a good idea. These companies are often started by people who are not well-known and are discovered through word-of-mouth referrals from other founders. The most successful angel investors start by helping founders for free to build relationships and gain referrals in the future. The top handful of companies created by YC represent a significant majority of the value created, demonstrating the power law of investments.\n",
            "The transcription discusses the importance of an open network and being available to people with no personal brand or reputation. YC values an open network and connects with promising people through their network. Founders are now in the driver's seat and have more choice when it comes to investors. Reputation matters more to future success as an investor than squeezing out a deal. It is recommended to be open to random emails and introductions.\n",
            "The speaker discussed how fighting over a failing company can damage an investor's reputation in the long term. Reputation is important, especially when a company is not performing well. Founders do reference checks on investors and value feedback from other founders about investors. To succeed in deals, it is essential to have a good reputation as an investor. The speaker also talked about how investors try to get better terms, and it is important to avoid asking for advisor shares and to focus on being helpful and responsive to the founders.\n",
            "In the transcription, the speaker discusses their experience with investing in startups and shares their framework for choosing what to invest in. They note that they have had success with both very cheap and very expensive deals, but caution against value investing as a strategy for angel investors. The speaker's only criteria is that they believe the company could become a 10 billion dollar company, and they encourage being open-minded about stage, sector, and business model. They also mention that the best companies are very rare and to be selected carefully.\n",
            "In the discussion, it was noted that starting a hard company, such as a nuclear fusion company, may be easier to recruit talented individuals and gain support compared to an easier company like a photo sharing app. It was also emphasized that it is important to consider the founders' traits, including obsession, focus, for-galathea, and love, when assessing the potential for a company to become a giant one. Additionally, intelligence is important for founders to continually come up with new ideas for their company.\n",
            "The discussion revolved around the key qualities that make a successful founder, including intelligence, creativity, communication skills, and execution speed. The group discussed an experiment they conducted at YC, in which they funded teams of strong founders without ideas, but all of them failed. They concluded that good founders are those who have ideas all the time. Furthermore, the group emphasized the importance of communication skills in a founder, as a significant part of their job is being an evangelist for the company. Finally, the group discussed the significance of executing quickly and relentlessly, which is highly correlated with success.\n",
            "The speaker discussed the importance of assessing a founder's rate of improvement and growth trajectory rather than comparing them to successful founders like Brian Chesky. They emphasized the value of paying attention to how quickly a founder is improving over a period of time and identifying potential for them to become successful leaders. The speaker also warned about the wrong motivations for starting a startup, such as seeking quick riches, and the long-term commitment required for success.\n",
            "The speaker emphasized the importance of focusing on mission-driven founders rather than those who view starting a company as a resume item or a quick route to wealth. They also discussed the importance of backing truly exceptional founders rather than settling for mediocre founders with a good business idea. The speaker also cautioned against \"scenesters\" who are more interested in the startup culture than in building a successful company. Finally, the speaker clarified that while growth rate is important for startups, investors also care about the size of the market.\n",
            "The speaker highlights the misconception among investors that the size of the market is the most important factor in investing in a startup. Instead, he suggests that investors should prioritize a small market with rapid growth potential over a large market today. The speaker emphasizes the importance of identifying the next rapidly growing market and investing there by developing independent thought, rather than blindly following what has worked in the past. He suggests thinking about whether a trend is genuine or not to determine if a market is growing quickly.\n",
            "The discussion revolves around the challenge of identifying a real trend vs a fake trend in the market. Angel investors tend to follow one another, and it is important to be skeptical of any trend. A real trend is where few participate but those who do are active users and spontaneously promote the platform to their friends like the iPhone. On the other hand, something like virtual reality, which everyone talks about as the next big trend, has not become a real trend yet as most people who have VR headsets don't use them regularly. Therefore, it is important to differentiate between a real and fake trend to avoid investing in something that may not take off the ground.\n",
            "The speaker discusses the importance of investing in VR technology and determining if it has real staying power. They stress the importance of avoiding bad ideas that look like good ideas, such as investing in a company that is chasing a trend from two years ago or is one of many in a crowded market. They encourage looking for a technology with a strong network effect and moat of entry for long-term success.\n",
            "The speaker discusses a framework for evaluating startup ideas, emphasizing the importance of focusing on creating a great product rather than relying solely on growth hacking and marketing. The speaker also suggests that the best companies are those that are spontaneously recommended by trusted friends, indicating the quality of the product. The speaker also notes that our human intuitions about exponential growth are often inaccurate.\n",
            "The speaker discusses the difficulty in predicting a company's growth rate and emphasizes the importance of modeling it out. They also mention that successful startup investing revolves around finding companies that become more powerful and have increasing pricing power as they get bigger. Additionally, the speaker suggests considering what unique insight or understanding one may have before investing in a company.\n",
            "In this transcription, the speaker emphasizes not basing investment decisions solely on the decisions of other investors. Instead, investors should understand the market and have a competitive edge. The speaker also highlights that founders often need help with hiring, future fundraising, and strategic advice, but the speaker recommends also being available for tactical advice.\n",
            "During the conversation, the speaker talked about the importance of being available for founders in times of emergencies and providing tactical advice. They also discussed what flaws are acceptable in a founder, such as not compromising on integrity, but being open to improving on other traits. The speaker mentioned examples of unsophisticated founders who improved quickly and had no domain-specific knowledge. Finally, when considering a founder from a network, the speaker suggested listening to the decisions they have made so far and trusting their instincts.\n",
            "During the discussion, the speaker presented the idea of exercising pro rata in investments, indicating that this approach should be used when a company is raising an up run led by a top quartile VC. The speaker further discussed the future of financing with security tokens and ICOs, suggesting that while there are some important ICOs happening currently, they are overshadowed by scams and incompetence. In conclusion, the speaker proposed the possibility of finding a more effective way of tracking investments in the future.\n",
            "The transcription discusses how commonly held beliefs can affect perception and decision-making, leading to missed opportunities. The speakers give examples from their experiences, including how skepticism from trusted individuals can erode conviction and how assumptions that big companies will dominate a market can discourage pursuing ideas. They also advise looking for shifts in consumer behavior to identify new markets, and caution against relying solely on non-technical founders to build a minimum viable product without educating themselves sufficiently.\n",
            "The speaker discussed the importance of having at least one technical founder and two co-founders when seeking investment. They emphasized the importance of self-awareness and willingness to take feedback and improve. The speaker suggested that they only fund founders they want to allocate a lot of time to because they won't help them otherwise. They noted that exceptions exist, but these traits tend to work well in their experience.\n"
          ]
        }
      ]
    },
    {
      "cell_type": "code",
      "source": [],
      "metadata": {
        "id": "83zR_WFIBa-f"
      },
      "execution_count": null,
      "outputs": []
    }
  ]
}